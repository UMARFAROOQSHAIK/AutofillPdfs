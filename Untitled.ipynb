{
 "cells": [
  {
   "cell_type": "code",
   "execution_count": 1,
   "metadata": {},
   "outputs": [],
   "source": [
    "#from pdf_processing import ProcessPdf"
   ]
  },
  {
   "cell_type": "code",
   "execution_count": 460,
   "metadata": {},
   "outputs": [],
   "source": [
    "path=r\"C:\\Users\\DELL\\Music\\PdfForms\\OoPdfFormExample.pdf\""
   ]
  },
  {
   "cell_type": "code",
   "execution_count": null,
   "metadata": {},
   "outputs": [],
   "source": []
  },
  {
   "cell_type": "code",
   "execution_count": null,
   "metadata": {},
   "outputs": [],
   "source": []
  },
  {
   "cell_type": "code",
   "execution_count": 461,
   "metadata": {},
   "outputs": [
    {
     "data": {
      "text/plain": [
       "{'Given Name Text Box': 'Umarfarooq',\n",
       " 'Family Name Text Box': 'Shaik',\n",
       " 'House nr Text Box': '72',\n",
       " 'Address 2 Text Box': 'Pelleru,chejarla',\n",
       " 'Postcode Text Box': '524309',\n",
       " 'Country Combo Box': '',\n",
       " 'Height Formatted Field': '200',\n",
       " 'City Text Box': 'NELLORE',\n",
       " 'Driving License Check Box': 'Yes',\n",
       " 'Favourite Colour List Box': '',\n",
       " 'Language 1 Check Box': 'Yes',\n",
       " 'Language 2 Check Box': 'Yes',\n",
       " 'Language 3 Check Box': 'Off',\n",
       " 'Language 4 Check Box': 'Yes',\n",
       " 'Language 5 Check Box': 'Off',\n",
       " 'Gender List Box': '',\n",
       " 'Address 1 Text Box': 'ReddyVariKandrika'}"
      ]
     },
     "execution_count": 461,
     "metadata": {},
     "output_type": "execute_result"
    }
   ],
   "source": [
    "data"
   ]
  },
  {
   "cell_type": "code",
   "execution_count": 462,
   "metadata": {},
   "outputs": [
    {
     "name": "stdout",
     "output_type": "stream",
     "text": [
      "\n",
      "##########| Initiating Pdf Creation Process |#########\n",
      "\n",
      "Annotations [(67, 0), (68, 0), (71, 0), (72, 0), (73, 0), (74, 0), (76, 0), (77, 0), (78, 0), (79, 0), (80, 0), (81, 0), (82, 0), (83, 0), (84, 0), (85, 0), (86, 0)]\n"
     ]
    },
    {
     "ename": "KeyError",
     "evalue": "'Name'",
     "output_type": "error",
     "traceback": [
      "\u001b[1;31m---------------------------------------------------------------------------\u001b[0m",
      "\u001b[1;31mKeyError\u001b[0m                                  Traceback (most recent call last)",
      "\u001b[1;32m<ipython-input-462-9fb13587561f>\u001b[0m in \u001b[0;36m<module>\u001b[1;34m\u001b[0m\n\u001b[0;32m     87\u001b[0m \u001b[0mtemp_files\u001b[0m \u001b[1;33m=\u001b[0m \u001b[1;33m[\u001b[0m\u001b[1;33m]\u001b[0m\u001b[1;33m\u001b[0m\u001b[1;33m\u001b[0m\u001b[0m\n\u001b[0;32m     88\u001b[0m \u001b[0mpdf\u001b[0m \u001b[1;33m=\u001b[0m \u001b[0mProcessPdf\u001b[0m\u001b[1;33m(\u001b[0m\u001b[1;34m'pdf_temp/'\u001b[0m\u001b[1;33m,\u001b[0m \u001b[0moutput_file\u001b[0m\u001b[1;33m)\u001b[0m\u001b[1;33m\u001b[0m\u001b[1;33m\u001b[0m\u001b[0m\n\u001b[1;32m---> 89\u001b[1;33m \u001b[0mdata_pdf\u001b[0m \u001b[1;33m=\u001b[0m \u001b[0mpdf\u001b[0m\u001b[1;33m.\u001b[0m\u001b[0madd_data_to_pdf\u001b[0m\u001b[1;33m(\u001b[0m\u001b[0mpath\u001b[0m\u001b[1;33m,\u001b[0m \u001b[0mdata\u001b[0m\u001b[1;33m)\u001b[0m\u001b[1;33m\u001b[0m\u001b[1;33m\u001b[0m\u001b[0m\n\u001b[0m\u001b[0;32m     90\u001b[0m \u001b[0mtemp_files\u001b[0m\u001b[1;33m.\u001b[0m\u001b[0mappend\u001b[0m\u001b[1;33m(\u001b[0m\u001b[0mdata_pdf\u001b[0m\u001b[1;33m)\u001b[0m\u001b[1;33m\u001b[0m\u001b[1;33m\u001b[0m\u001b[0m\n",
      "\u001b[1;32m<ipython-input-462-9fb13587561f>\u001b[0m in \u001b[0;36madd_data_to_pdf\u001b[1;34m(self, template_path, data)\u001b[0m\n\u001b[0;32m     57\u001b[0m                 \u001b[1;32mif\u001b[0m \u001b[0mannotation\u001b[0m\u001b[1;33m[\u001b[0m\u001b[1;34m'/FT'\u001b[0m\u001b[1;33m]\u001b[0m\u001b[1;33m==\u001b[0m\u001b[1;34m'/Tx'\u001b[0m\u001b[1;33m:\u001b[0m\u001b[1;33m\u001b[0m\u001b[1;33m\u001b[0m\u001b[0m\n\u001b[0;32m     58\u001b[0m                     \u001b[0mkey\u001b[0m \u001b[1;33m=\u001b[0m \u001b[0mannotation\u001b[0m\u001b[1;33m[\u001b[0m\u001b[1;34m'/T'\u001b[0m\u001b[1;33m]\u001b[0m\u001b[1;33m[\u001b[0m\u001b[1;36m1\u001b[0m\u001b[1;33m:\u001b[0m\u001b[1;33m-\u001b[0m\u001b[1;36m1\u001b[0m\u001b[1;33m]\u001b[0m\u001b[1;33m\u001b[0m\u001b[1;33m\u001b[0m\u001b[0m\n\u001b[1;32m---> 59\u001b[1;33m                     \u001b[0mannotation\u001b[0m\u001b[1;33m.\u001b[0m\u001b[0mupdate\u001b[0m\u001b[1;33m(\u001b[0m\u001b[0mpdfrw\u001b[0m\u001b[1;33m.\u001b[0m\u001b[0mPdfDict\u001b[0m\u001b[1;33m(\u001b[0m\u001b[0mV\u001b[0m \u001b[1;33m=\u001b[0m \u001b[1;34m'{}'\u001b[0m\u001b[1;33m.\u001b[0m\u001b[0mformat\u001b[0m\u001b[1;33m(\u001b[0m\u001b[0mdata\u001b[0m\u001b[1;33m[\u001b[0m\u001b[0mkey\u001b[0m\u001b[1;33m]\u001b[0m\u001b[1;33m)\u001b[0m\u001b[1;33m,\u001b[0m\u001b[0mFf\u001b[0m\u001b[1;33m=\u001b[0m\u001b[1;36m1\u001b[0m\u001b[1;33m,\u001b[0m\u001b[0mAS\u001b[0m\u001b[1;33m=\u001b[0m\u001b[0mdata\u001b[0m\u001b[1;33m[\u001b[0m\u001b[0mkey\u001b[0m\u001b[1;33m]\u001b[0m\u001b[1;33m)\u001b[0m\u001b[1;33m)\u001b[0m\u001b[1;33m\u001b[0m\u001b[1;33m\u001b[0m\u001b[0m\n\u001b[0m\u001b[0;32m     60\u001b[0m                     \u001b[1;31m#print(\"Textbox\",key,data[key])\u001b[0m\u001b[1;33m\u001b[0m\u001b[1;33m\u001b[0m\u001b[1;33m\u001b[0m\u001b[0m\n\u001b[0;32m     61\u001b[0m                 \u001b[1;32melif\u001b[0m \u001b[0mannotation\u001b[0m\u001b[1;33m[\u001b[0m\u001b[1;34m'/FT'\u001b[0m\u001b[1;33m]\u001b[0m\u001b[1;33m==\u001b[0m\u001b[1;34m'/Btn'\u001b[0m\u001b[1;33m:\u001b[0m\u001b[1;33m\u001b[0m\u001b[1;33m\u001b[0m\u001b[0m\n",
      "\u001b[1;31mKeyError\u001b[0m: 'Name'"
     ]
    }
   ],
   "source": [
    "#check=pdfrw.PdfName('YES')\n",
    "data=[('Given Name Text Box', 'Umarfarooq'),\n",
    "             ('Family Name Text Box', 'Shaik'),\n",
    "             ('House nr Text Box', '72'),\n",
    "             ('Address 2 Text Box', 'Pelleru,chejarla'),\n",
    "             ('Postcode Text Box', '524309'),\n",
    "             ('Country Combo Box', ''),\n",
    "             ('Height Formatted Field', '200'),\n",
    "             ('City Text Box', 'NELLORE'),\n",
    "             ('Driving License Check Box', 'Yes'),\n",
    "             ('Favourite Colour List Box', ''),\n",
    "             ('Language 1 Check Box', \"Yes\"),\n",
    "             ('Language 2 Check Box', \"Yes\"),\n",
    "             ('Language 3 Check Box', \"Off\"),\n",
    "             ('Language 4 Check Box', 'Yes'),\n",
    "             ('Language 5 Check Box', \"Off\"),\n",
    "             ('Gender List Box', ''),\n",
    "             ('Address 1 Text Box', 'ReddyVariKandrika')]\n",
    "data=dict(data)\n",
    "\n",
    "\n",
    "import os\n",
    "import re\n",
    "\n",
    "#import fitz  # requires fitz, PyMuPDF\n",
    "import pdfrw\n",
    "import subprocess\n",
    "import os.path\n",
    "import sys\n",
    "from PIL import Image\n",
    "\n",
    "'''\n",
    "    replace all the constants (the one in caps) with your own lists\n",
    "'''\n",
    "\n",
    "class ProcessPdf:\n",
    "\n",
    "    def __init__(self, temp_directory, output_file):\n",
    "        print('\\n##########| Initiating Pdf Creation Process |#########\\n')\n",
    "        \n",
    "        #print('\\nDirectory for storing all temporary files is: ', temp_directory)\n",
    "        self.temp_directory = temp_directory\n",
    "        #print(\"Final Pdf name will be: \", output_file)\n",
    "        self.output_file = output_file\n",
    "\n",
    "    def add_data_to_pdf(self, template_path, data):\n",
    "        #print('\\nAdding data to pdf...')\n",
    "        template = pdfrw.PdfReader(template_path)\n",
    "        #print(template)\n",
    "        for page in template.pages:\n",
    "            #print(page)\n",
    "            annotations = page['/Annots']\n",
    "            if annotations is None:\n",
    "                continue\n",
    "            print(\"Annotations\",annotations)\n",
    "            for annotation in annotations:\n",
    "                if annotation['/FT']=='/Tx':\n",
    "                    key = annotation['/T'][1:-1]\n",
    "                    annotation.update(pdfrw.PdfDict(V = '{}'.format(data[key]),Ff=1,AS=data[key]))\n",
    "                    #print(\"Textbox\",key,data[key])\n",
    "                elif annotation['/FT']=='/Btn':\n",
    "                    key = annotation['/T'][1:-1]\n",
    "                    #print(\"Checkbox\",key,data[key])\n",
    "                    annotation.update( pdfrw.PdfDict( V=pdfrw.PdfName(data[key]) ,Ff=1, AS=pdfrw.PdfName(data[key]) ))\n",
    "                \n",
    "                elif annotation['/FT']=='/Ch':\n",
    "                    key = annotation['/T'][1:-1]\n",
    "                    print(\"finaltype\",key,data[key])\n",
    "                    #annotation.update( pdfrw.PdfDict( V=pdfrw.PdfName(data[key]) , AS=pdfrw.PdfName(data[key]) ))\n",
    "                    annotation.update(pdfrw.PdfDict(V='{}'.format(data[key]), Ff=1))\n",
    "                \n",
    "                        \n",
    "                #annotation.update(pdfrw.PdfDict(Ff=1))\n",
    "                #annotation.update({'/Ff': 1})\n",
    "        template.Root.AcroForm.update(pdfrw.PdfDict(NeedAppearances=pdfrw.PdfObject('true')))\n",
    "        pdfrw.PdfWriter().write(self.temp_directory + \"farooqfinal.pdf\", template)\n",
    "        print('Pdf saved')\n",
    "        print(pdfrw.PdfDict.iteritems)\n",
    "        return self.temp_directory + \"farooqfinal.pdf\"\n",
    "\n",
    "\n",
    "\n",
    "\n",
    "\n",
    "\n",
    "output_file = 'final_pdf.pdf'\n",
    "temp_files = []\n",
    "pdf = ProcessPdf('pdf_temp/', output_file)\n",
    "data_pdf = pdf.add_data_to_pdf(path, data)\n",
    "temp_files.append(data_pdf)\n"
   ]
  },
  {
   "cell_type": "code",
   "execution_count": null,
   "metadata": {
    "scrolled": true
   },
   "outputs": [],
   "source": []
  },
  {
   "cell_type": "code",
   "execution_count": 287,
   "metadata": {},
   "outputs": [],
   "source": []
  },
  {
   "cell_type": "code",
   "execution_count": 246,
   "metadata": {},
   "outputs": [],
   "source": [
    "#compressed_pdf = pdf.compress_pdf(path)"
   ]
  },
  {
   "cell_type": "code",
   "execution_count": 31,
   "metadata": {},
   "outputs": [
    {
     "data": {
      "text/plain": [
       "'/Yes'"
      ]
     },
     "execution_count": 31,
     "metadata": {},
     "output_type": "execute_result"
    }
   ],
   "source": [
    "pdfrw.objects.pdfname.BasePdfName('/Yes')"
   ]
  },
  {
   "cell_type": "code",
   "execution_count": null,
   "metadata": {},
   "outputs": [],
   "source": []
  },
  {
   "cell_type": "code",
   "execution_count": null,
   "metadata": {},
   "outputs": [],
   "source": []
  },
  {
   "cell_type": "code",
   "execution_count": null,
   "metadata": {},
   "outputs": [],
   "source": []
  },
  {
   "cell_type": "code",
   "execution_count": null,
   "metadata": {},
   "outputs": [],
   "source": []
  },
  {
   "cell_type": "code",
   "execution_count": null,
   "metadata": {},
   "outputs": [],
   "source": []
  },
  {
   "cell_type": "code",
   "execution_count": null,
   "metadata": {},
   "outputs": [],
   "source": []
  },
  {
   "cell_type": "code",
   "execution_count": null,
   "metadata": {},
   "outputs": [],
   "source": []
  },
  {
   "cell_type": "code",
   "execution_count": null,
   "metadata": {},
   "outputs": [],
   "source": []
  },
  {
   "cell_type": "code",
   "execution_count": null,
   "metadata": {},
   "outputs": [],
   "source": []
  },
  {
   "cell_type": "code",
   "execution_count": null,
   "metadata": {},
   "outputs": [],
   "source": []
  },
  {
   "cell_type": "code",
   "execution_count": null,
   "metadata": {},
   "outputs": [],
   "source": []
  },
  {
   "cell_type": "code",
   "execution_count": null,
   "metadata": {},
   "outputs": [],
   "source": []
  },
  {
   "cell_type": "code",
   "execution_count": 459,
   "metadata": {},
   "outputs": [],
   "source": [
    "from PyPDF2 import PdfFileWriter, PdfFileReader\n",
    "import io\n",
    "from reportlab.pdfgen import canvas\n",
    "from reportlab.lib.pagesizes import letter\n",
    "\n",
    "packet = io.BytesIO()\n",
    "# create a new PDF with Reportlab\n",
    "can = canvas.Canvas(packet, pagesize=letter)\n",
    "# can.drawString(168, 458, \"UmarFarooq\")\n",
    "# can.drawString(168,422,\"Shaik\")\n",
    "# can.drawString(168,389,\"ReddyVariKandrika\")\n",
    "# can.drawString(379,389,\"72\")\n",
    "can.drawString(100,370,\"KummariVeedhi\")\n",
    "# can.drawString(168,351,\"524309\")\n",
    "# can.drawString(300,351,\"Nellore\")\n",
    "# can.drawString(320,321,\"India\")\n",
    "# can.drawString(250,290,\"Male\")\n",
    "# can.drawString(180,250,\"160\")\n",
    "#can.drawString(325,150,\"Green\")\n",
    "#can.acroForm.choice(value=\"Black\",x=300,y=150)\n",
    "\n",
    "can.save()\n",
    "\n",
    "#move to the beginning of the StringIO buffer\n",
    "packet.seek(0)\n",
    "new_pdf = PdfFileReader(packet)\n",
    "# read your existing PDF\n",
    "existing_pdf = PdfFileReader(open(\"pdf_temp/sample_pdf.pdf\", \"rb\"))\n",
    "output = PdfFileWriter()\n",
    "# add the \"watermark\" (which is the new pdf) on the existing page\n",
    "page = existing_pdf.getPage(0)\n",
    "page.mergePage(new_pdf.getPage(0))\n",
    "output.addPage(page)\n",
    "# finally, write \"output\" to a real file\n",
    "outputStream = open(\"destination.pdf\", \"wb\")\n",
    "output.write(outputStream)\n",
    "outputStream.close()"
   ]
  },
  {
   "cell_type": "code",
   "execution_count": 457,
   "metadata": {},
   "outputs": [
    {
     "ename": "ValueError",
     "evalue": "choice value ' ' is not in option\nvalues []\nor labels []",
     "output_type": "error",
     "traceback": [
      "\u001b[1;31m---------------------------------------------------------------------------\u001b[0m",
      "\u001b[1;31mValueError\u001b[0m                                Traceback (most recent call last)",
      "\u001b[1;32m<ipython-input-457-bfca1eba2e55>\u001b[0m in \u001b[0;36m<module>\u001b[1;34m\u001b[0m\n\u001b[1;32m----> 1\u001b[1;33m \u001b[0mcan\u001b[0m\u001b[1;33m.\u001b[0m\u001b[0macroForm\u001b[0m\u001b[1;33m.\u001b[0m\u001b[0mchoice\u001b[0m\u001b[1;33m(\u001b[0m\u001b[0mvalue\u001b[0m\u001b[1;33m=\u001b[0m\u001b[1;34m\" \"\u001b[0m\u001b[1;33m,\u001b[0m\u001b[0mx\u001b[0m\u001b[1;33m=\u001b[0m\u001b[1;36m320\u001b[0m\u001b[1;33m,\u001b[0m\u001b[0my\u001b[0m\u001b[1;33m=\u001b[0m\u001b[1;36m150\u001b[0m\u001b[1;33m)\u001b[0m\u001b[1;33m\u001b[0m\u001b[1;33m\u001b[0m\u001b[0m\n\u001b[0m",
      "\u001b[1;32m~\\anaconda3\\lib\\site-packages\\reportlab\\pdfbase\\acroform.py\u001b[0m in \u001b[0;36mchoice\u001b[1;34m(self, value, fillColor, borderColor, textColor, borderWidth, borderStyle, width, height, x, y, tooltip, name, annotationFlags, fieldFlags, forceBorder, relative, fontName, fontSize, dashLen, maxlen, options)\u001b[0m\n\u001b[0;32m   1006\u001b[0m                 \u001b[0moptions\u001b[0m\u001b[1;33m=\u001b[0m\u001b[1;33m[\u001b[0m\u001b[1;33m]\u001b[0m\u001b[1;33m,\u001b[0m\u001b[1;33m\u001b[0m\u001b[1;33m\u001b[0m\u001b[0m\n\u001b[0;32m   1007\u001b[0m                 ):\n\u001b[1;32m-> 1008\u001b[1;33m         return self._textfield(\n\u001b[0m\u001b[0;32m   1009\u001b[0m                 \u001b[0mvalue\u001b[0m\u001b[1;33m=\u001b[0m\u001b[0mvalue\u001b[0m\u001b[1;33m,\u001b[0m\u001b[1;33m\u001b[0m\u001b[1;33m\u001b[0m\u001b[0m\n\u001b[0;32m   1010\u001b[0m                 \u001b[0mfillColor\u001b[0m\u001b[1;33m=\u001b[0m\u001b[0mfillColor\u001b[0m\u001b[1;33m,\u001b[0m\u001b[1;33m\u001b[0m\u001b[1;33m\u001b[0m\u001b[0m\n",
      "\u001b[1;32m~\\anaconda3\\lib\\site-packages\\reportlab\\pdfbase\\acroform.py\u001b[0m in \u001b[0;36m_textfield\u001b[1;34m(self, value, fillColor, borderColor, textColor, borderWidth, borderStyle, width, height, x, y, tooltip, name, annotationFlags, fieldFlags, forceBorder, relative, maxlen, fontName, fontSize, wkind, options, dashLen)\u001b[0m\n\u001b[0;32m    802\u001b[0m                     \u001b[1;32mif\u001b[0m \u001b[0mv\u001b[0m \u001b[1;32mnot\u001b[0m \u001b[1;32min\u001b[0m \u001b[0mAP\u001b[0m\u001b[1;33m:\u001b[0m\u001b[1;33m\u001b[0m\u001b[1;33m\u001b[0m\u001b[0m\n\u001b[0;32m    803\u001b[0m                         \u001b[1;32mif\u001b[0m \u001b[0mv\u001b[0m \u001b[1;32mnot\u001b[0m \u001b[1;32min\u001b[0m \u001b[0mTF\u001b[0m\u001b[1;33m:\u001b[0m\u001b[1;33m\u001b[0m\u001b[1;33m\u001b[0m\u001b[0m\n\u001b[1;32m--> 804\u001b[1;33m                             \u001b[1;32mraise\u001b[0m \u001b[0mValueError\u001b[0m\u001b[1;33m(\u001b[0m\u001b[1;34m'%s value %r is not in option\\nvalues %r\\nor labels %r'\u001b[0m \u001b[1;33m%\u001b[0m \u001b[1;33m(\u001b[0m\u001b[0mwkind\u001b[0m\u001b[1;33m,\u001b[0m\u001b[0mv\u001b[0m\u001b[1;33m,\u001b[0m\u001b[0mAP\u001b[0m\u001b[1;33m,\u001b[0m\u001b[0mTF\u001b[0m\u001b[1;33m)\u001b[0m\u001b[1;33m)\u001b[0m\u001b[1;33m\u001b[0m\u001b[1;33m\u001b[0m\u001b[0m\n\u001b[0m\u001b[0;32m    805\u001b[0m                         \u001b[1;32melse\u001b[0m\u001b[1;33m:\u001b[0m\u001b[1;33m\u001b[0m\u001b[1;33m\u001b[0m\u001b[0m\n\u001b[0;32m    806\u001b[0m                             \u001b[0mv\u001b[0m \u001b[1;33m=\u001b[0m \u001b[0mAP\u001b[0m\u001b[1;33m[\u001b[0m\u001b[0mTF\u001b[0m\u001b[1;33m.\u001b[0m\u001b[0mindex\u001b[0m\u001b[1;33m(\u001b[0m\u001b[0mv\u001b[0m\u001b[1;33m)\u001b[0m\u001b[1;33m]\u001b[0m\u001b[1;33m\u001b[0m\u001b[1;33m\u001b[0m\u001b[0m\n",
      "\u001b[1;31mValueError\u001b[0m: choice value ' ' is not in option\nvalues []\nor labels []"
     ]
    }
   ],
   "source": [
    "#can.acroForm.choice(value=\" \",x=320,y=150)"
   ]
  },
  {
   "cell_type": "code",
   "execution_count": 453,
   "metadata": {},
   "outputs": [],
   "source": [
    "for i in range(290,350):\n",
    "    try:\n",
    "        can.acroForm.choice(value=\"\",x=i,y=150)\n",
    "        print(\"Success\")\n",
    "    except:\n",
    "        pass"
   ]
  },
  {
   "cell_type": "code",
   "execution_count": null,
   "metadata": {},
   "outputs": [],
   "source": [
    "def spumoni2(canvas):\n",
    "     0.45*inch\n",
    "     p.moveTo( from reportlab.lib.units import inch\n",
    "     from reportlab.lib.colors import pink, green, brown, white, black\n",
    "     # draw the previous drawing\n",
    "     spumoni(canvas)\n",
    "     # now put an ice cream cone on top of it:\n",
    "     # first draw a triangle (ice cream cone)\n",
    "     p = canvas.beginPath()\n",
    "     xcenter = 2.75*inch\n",
    "     radius =xcenter-radius, 1.5*inch)\n",
    "     p.lineTo(xcenter+radius, 1.5*inch)\n",
    "     p.lineTo(xcenter, 0)\n",
    "     canvas.setFillColor(brown)\n",
    "     canvas.setStrokeColor(black)\n",
    "     canvas.drawPath(p, fill=1)\n",
    "     # draw some circles (scoops)\n",
    "     y = 1.5*inch\n",
    "     for color in (pink, green, brown):\n",
    "     canvas.setFillColor(color)\n",
    "     canvas.circle(xcenter, y, radius, fill=1)\n",
    "     y = y+radius\n"
   ]
  },
  {
   "cell_type": "code",
   "execution_count": null,
   "metadata": {},
   "outputs": [],
   "source": []
  },
  {
   "cell_type": "code",
   "execution_count": null,
   "metadata": {},
   "outputs": [],
   "source": []
  },
  {
   "cell_type": "code",
   "execution_count": null,
   "metadata": {},
   "outputs": [],
   "source": []
  },
  {
   "cell_type": "code",
   "execution_count": null,
   "metadata": {},
   "outputs": [],
   "source": []
  },
  {
   "cell_type": "code",
   "execution_count": 348,
   "metadata": {},
   "outputs": [],
   "source": [
    "ANNOT_KEY = '/Annots'           # key for all annotations within a page\n",
    "ANNOT_FIELD_KEY = '/T'          # Name of field. i.e. given ID of field\n",
    "ANNOT_FORM_type = '/FT'         # Form type (e.g. text/button)\n",
    "ANNOT_FORM_button = '/Btn'      # ID for buttons, i.e. a checkbox\n",
    "ANNOT_FORM_text = '/Tx'         # ID for textbox\n",
    "SUBTYPE_KEY = '/Subtype'\n",
    "WIDGET_SUBTYPE_KEY = '/Widget'\n",
    "\n",
    "def write_fillable_pdf(input_pdf_path, output_pdf_path, data_dict):\n",
    "    template_pdf = pdfrw.PdfReader(input_pdf_path)\n",
    "    for Page in template_pdf.pages:\n",
    "        if Page[ANNOT_KEY]:\n",
    "            for annotation in Page[ANNOT_KEY]:\n",
    "                if annotation[ANNOT_FIELD_KEY] and annotation[SUBTYPE_KEY] == WIDGET_SUBTYPE_KEY :\n",
    "                    key = annotation[ANNOT_FIELD_KEY][1:-1] # Remove parentheses\n",
    "                    if key in data_dict.keys():\n",
    "                        if annotation[ANNOT_FORM_type] == ANNOT_FORM_button:\n",
    "                            print(annotation[ANNOT_FORM_type] , ANNOT_FORM_button)\n",
    "                            print(\"Here\")\n",
    "                            # button field i.e. a checkbox\n",
    "                            annotation.update( pdfrw.PdfDict( V=pdfrw.PdfName(data_dict[key]) , AS=pdfrw.PdfName(data_dict[key]) ))\n",
    "                        elif annotation[ANNOT_FORM_type] == ANNOT_FORM_text:\n",
    "                            # regular text field\n",
    "                            annotation.update( pdfrw.PdfDict( V=data_dict[key], AP=data_dict[key]) )\n",
    "    template_pdf.Root.AcroForm.update(pdfrw.PdfDict(NeedAppearances=pdfrw.PdfObject('true')))\n",
    "    pdfrw.PdfWriter().write(output_pdf_path, template_pdf)"
   ]
  },
  {
   "cell_type": "code",
   "execution_count": 349,
   "metadata": {},
   "outputs": [],
   "source": [
    "# output_pdf_path=\"farooq.pdf\"\n",
    "\n",
    "# write_fillable_pdf(path, output_pdf_path, data)"
   ]
  },
  {
   "cell_type": "code",
   "execution_count": 295,
   "metadata": {},
   "outputs": [],
   "source": [
    "template = pdfrw.PdfReader(path)"
   ]
  },
  {
   "cell_type": "code",
   "execution_count": 305,
   "metadata": {},
   "outputs": [],
   "source": [
    "with open('pdf_temp/farooq.pdf','rb') as f:\n",
    "    data=f.read()"
   ]
  },
  {
   "cell_type": "code",
   "execution_count": 306,
   "metadata": {},
   "outputs": [],
   "source": [
    "with open('pdf_temp/farooq1.pdf','wb') as f:\n",
    "    f.write(data)"
   ]
  },
  {
   "cell_type": "code",
   "execution_count": 312,
   "metadata": {},
   "outputs": [
    {
     "data": {
      "text/plain": [
       "{'/Ff': 1}"
      ]
     },
     "execution_count": 312,
     "metadata": {},
     "output_type": "execute_result"
    }
   ],
   "source": [
    "pdfrw.PdfDict(Ff=1)"
   ]
  },
  {
   "cell_type": "code",
   "execution_count": 343,
   "metadata": {},
   "outputs": [],
   "source": [
    "# Define dependencies\n",
    "import os\n",
    "import pdfrw\n",
    "\n",
    "ANNOT_KEY = '/Annots'\n",
    "ANNOT_FIELD_KEY = '/T'\n",
    "ANNOT_VAL_KEY = '/V'\n",
    "ANNOT_RECT_KEY = '/Rect'\n",
    "SUBTYPE_KEY = '/Subtype'\n",
    "WIDGET_SUBTYPE_KEY = '/Widget'\n",
    "\n",
    "def write_fillable_pdf(input_pdf_path, output_pdf_path, data_dict):\n",
    "    template_pdf = pdfrw.PdfReader(input_pdf_path)\n",
    "    # Makes it render when opening the pdf file on Adobe Acrobat DC\n",
    "    # Credit @TLK3: https://github.com/pmaupin/pdfrw/issues/84\n",
    "    template_pdf.Root.AcroForm.update(pdfrw.PdfDict(NeedAppearances=pdfrw.PdfObject('true')))     \n",
    "    annotations = template_pdf.pages[0][ANNOT_KEY]\n",
    "    for annotation in annotations:\n",
    "        if annotation[SUBTYPE_KEY] == WIDGET_SUBTYPE_KEY:\n",
    "            if annotation[ANNOT_FIELD_KEY]:\n",
    "                key = annotation[ANNOT_FIELD_KEY][1:-1]\n",
    "                if key in data_dict.keys():\n",
    "                    # Makes it render when opening the pdf file on Preview for MacOs\n",
    "                    # Credit @davidmacneil: https://github.com/pmaupin/pdfrw/issues/84\n",
    "                    annotation.update(pdfrw.PdfDict(AP='')) \n",
    "                    # Form Field cannot be modifed Ff=1\n",
    "                    annotation.update(pdfrw.PdfDict(V='{}'.format(data_dict[key]),Ff=1))\n",
    "                    # Form Field can be modified without Ff=1\n",
    "                    # annotation.update(pdfrw.PdfDict(V='{}'.format(data_dict[key])))\n",
    "    pdfrw.PdfWriter().write(output_pdf_path, template_pdf)\n"
   ]
  },
  {
   "cell_type": "code",
   "execution_count": 344,
   "metadata": {},
   "outputs": [],
   "source": [
    "write_fillable_pdf(path, 'final.pdf', data)"
   ]
  },
  {
   "cell_type": "code",
   "execution_count": null,
   "metadata": {},
   "outputs": [],
   "source": []
  }
 ],
 "metadata": {
  "kernelspec": {
   "display_name": "Python 3",
   "language": "python",
   "name": "python3"
  },
  "language_info": {
   "codemirror_mode": {
    "name": "ipython",
    "version": 3
   },
   "file_extension": ".py",
   "mimetype": "text/x-python",
   "name": "python",
   "nbconvert_exporter": "python",
   "pygments_lexer": "ipython3",
   "version": "3.8.5"
  }
 },
 "nbformat": 4,
 "nbformat_minor": 4
}
