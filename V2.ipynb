{
 "cells": [
  {
   "cell_type": "code",
   "execution_count": 1,
   "metadata": {},
   "outputs": [],
   "source": [
    "#from pdf_processing import ProcessPdf"
   ]
  },
  {
   "cell_type": "code",
   "execution_count": 4,
   "metadata": {},
   "outputs": [],
   "source": [
    "path=\"pdf_temp/sample_pdf.pdf\""
   ]
  },
  {
   "cell_type": "code",
   "execution_count": null,
   "metadata": {},
   "outputs": [],
   "source": []
  },
  {
   "cell_type": "code",
   "execution_count": null,
   "metadata": {},
   "outputs": [],
   "source": []
  },
  {
   "cell_type": "code",
   "execution_count": 5,
   "metadata": {},
   "outputs": [
    {
     "data": {
      "text/plain": [
       "{'Given Name Text Box': 'Umarfarooq',\n",
       " 'Family Name Text Box': 'Shaik',\n",
       " 'House nr Text Box': '72',\n",
       " 'Address 2 Text Box': 'Pelleru,chejarla',\n",
       " 'Postcode Text Box': '524309',\n",
       " 'Country Combo Box': '',\n",
       " 'Height Formatted Field': '200',\n",
       " 'City Text Box': 'NELLORE',\n",
       " 'Driving License Check Box': 'Yes',\n",
       " 'Favourite Colour List Box': '',\n",
       " 'Language 1 Check Box': 'Yes',\n",
       " 'Language 2 Check Box': 'Yes',\n",
       " 'Language 3 Check Box': 'Off',\n",
       " 'Language 4 Check Box': 'Yes',\n",
       " 'Language 5 Check Box': 'Off',\n",
       " 'Gender List Box': '',\n",
       " 'Address 1 Text Box': 'ReddyVariKandrika'}"
      ]
     },
     "execution_count": 5,
     "metadata": {},
     "output_type": "execute_result"
    }
   ],
   "source": [
    "data"
   ]
  },
  {
   "cell_type": "code",
   "execution_count": 14,
   "metadata": {},
   "outputs": [
    {
     "name": "stdout",
     "output_type": "stream",
     "text": [
      "\n",
      "##########| Initiating Pdf Creation Process |#########\n",
      "\n",
      "Annotations /Tx\n",
      "Annotations /Ch\n",
      "Annotations /Ch\n",
      "Annotations /Ch\n",
      "Annotations /Tx\n",
      "Annotations /Btn\n",
      "Checkbox Check Box1 Off\n",
      "Annotations /Btn\n",
      "Checkbox Check Box2 Yes\n",
      "Annotations /Btn\n",
      "Checkbox Check Box3 Off\n",
      "Annotations /Btn\n",
      "Checkbox Check Box4 Off\n",
      "Annotations /Tx\n",
      "Annotations None\n",
      "Annotations None\n",
      "Annotations None\n",
      "Annotations None\n",
      "Annotations /Tx\n",
      "Annotations None\n",
      "Annotations None\n",
      "Pdf saved\n",
      "<function PdfDict.iteritems at 0x000001EC136DD8B0>\n"
     ]
    }
   ],
   "source": [
    "#check=pdfrw.PdfName('YES')\n",
    "data=[('Given Name Text Box', 'Umarfarooq'),\n",
    "             ('Family Name Text Box', 'Shaik'),\n",
    "             ('House nr Text Box', '72'),\n",
    "             ('Address 2 Text Box', 'Pelleru,chejarla'),\n",
    "             ('Postcode Text Box', '524309'),\n",
    "             ('Country Combo Box', ''),\n",
    "             ('Height Formatted Field', '200'),\n",
    "             ('City Text Box', 'NELLORE'),\n",
    "             ('Driving License Check Box', 'Yes'),\n",
    "             ('Favourite Colour List Box', ''),\n",
    "             ('Language 1 Check Box', \"Yes\"),\n",
    "             ('Language 2 Check Box', \"Yes\"),\n",
    "             ('Language 3 Check Box', \"Off\"),\n",
    "             ('Language 4 Check Box', 'Yes'),\n",
    "             ('Language 5 Check Box', \"Off\"),\n",
    "             ('Gender List Box', ''),\n",
    "             ('Address 1 Text Box', 'ReddyVariKandrika')]\n",
    "data=dict(data)\n",
    "data={\"Check Box1\":\"Off\",\n",
    "     \"Check Box2\":\"Yes\",\n",
    "     \"Check Box3\":\"Off\",\n",
    "     \"Check Box4\":\"Off\"}\n",
    "\n",
    "import os\n",
    "import re\n",
    "\n",
    "#import fitz  # requires fitz, PyMuPDF\n",
    "import pdfrw\n",
    "import subprocess\n",
    "import os.path\n",
    "import sys\n",
    "from PIL import Image\n",
    "\n",
    "'''\n",
    "    replace all the constants (the one in caps) with your own lists\n",
    "'''\n",
    "\n",
    "class ProcessPdf:\n",
    "\n",
    "    def __init__(self, temp_directory, output_file):\n",
    "        print('\\n##########| Initiating Pdf Creation Process |#########\\n')\n",
    "        \n",
    "        #print('\\nDirectory for storing all temporary files is: ', temp_directory)\n",
    "        self.temp_directory = temp_directory\n",
    "        #print(\"Final Pdf name will be: \", output_file)\n",
    "        self.output_file = output_file\n",
    "\n",
    "    def add_data_to_pdf(self, template_path, data):\n",
    "        #print('\\nAdding data to pdf...')\n",
    "        template = pdfrw.PdfReader(template_path)\n",
    "        #print(template)\n",
    "        for page in template.pages:\n",
    "            #print(page)\n",
    "            annotations = page['/Annots']\n",
    "            if annotations is None:\n",
    "                continue\n",
    "            #print(\"Annotations\",annotations):\n",
    "                \n",
    "            \n",
    "            for annotation in annotations:\n",
    "                print(\"Annotations\",annotation['/FT'])\n",
    "                if annotation['/FT']=='/Btn':\n",
    "                    key = annotation['/T'][1:-1]\n",
    "                    print(\"Checkbox\",key,data[key])\n",
    "                    annotation.update( pdfrw.PdfDict( V=pdfrw.PdfName(data[key]) ,Ff=1, AS=pdfrw.PdfName(data[key]) ))\n",
    "\n",
    "                        \n",
    "                #annotation.update(pdfrw.PdfDict(Ff=1))\n",
    "                #annotation.update({'/Ff': 1})\n",
    "        template.Root.AcroForm.update(pdfrw.PdfDict(NeedAppearances=pdfrw.PdfObject('true')))\n",
    "        pdfrw.PdfWriter().write(self.temp_directory + \"radio.pdf\", template)\n",
    "        print('Pdf saved')\n",
    "        print(pdfrw.PdfDict.iteritems)\n",
    "        return self.temp_directory + \"radio.pdf\"\n",
    "\n",
    "\n",
    "\n",
    "\n",
    "\n",
    "\n",
    "output_file = 'final_pdf.pdf'\n",
    "temp_files = []\n",
    "pdf = ProcessPdf('pdf_temp/', output_file)\n",
    "data_pdf = pdf.add_data_to_pdf(path, data)\n",
    "temp_files.append(data_pdf)\n"
   ]
  },
  {
   "cell_type": "code",
   "execution_count": null,
   "metadata": {
    "scrolled": true
   },
   "outputs": [],
   "source": []
  },
  {
   "cell_type": "code",
   "execution_count": 287,
   "metadata": {},
   "outputs": [],
   "source": []
  },
  {
   "cell_type": "code",
   "execution_count": 246,
   "metadata": {},
   "outputs": [],
   "source": [
    "#compressed_pdf = pdf.compress_pdf(path)"
   ]
  },
  {
   "cell_type": "code",
   "execution_count": 31,
   "metadata": {},
   "outputs": [
    {
     "data": {
      "text/plain": [
       "'/Yes'"
      ]
     },
     "execution_count": 31,
     "metadata": {},
     "output_type": "execute_result"
    }
   ],
   "source": [
    "pdfrw.objects.pdfname.BasePdfName('/Yes')"
   ]
  },
  {
   "cell_type": "code",
   "execution_count": null,
   "metadata": {},
   "outputs": [],
   "source": []
  },
  {
   "cell_type": "code",
   "execution_count": null,
   "metadata": {},
   "outputs": [],
   "source": []
  },
  {
   "cell_type": "code",
   "execution_count": null,
   "metadata": {},
   "outputs": [],
   "source": []
  },
  {
   "cell_type": "code",
   "execution_count": null,
   "metadata": {},
   "outputs": [],
   "source": []
  },
  {
   "cell_type": "code",
   "execution_count": null,
   "metadata": {},
   "outputs": [],
   "source": []
  },
  {
   "cell_type": "code",
   "execution_count": null,
   "metadata": {},
   "outputs": [],
   "source": []
  },
  {
   "cell_type": "code",
   "execution_count": null,
   "metadata": {},
   "outputs": [],
   "source": []
  },
  {
   "cell_type": "code",
   "execution_count": null,
   "metadata": {},
   "outputs": [],
   "source": []
  }
 ],
 "metadata": {
  "kernelspec": {
   "display_name": "Python 3",
   "language": "python",
   "name": "python3"
  },
  "language_info": {
   "codemirror_mode": {
    "name": "ipython",
    "version": 3
   },
   "file_extension": ".py",
   "mimetype": "text/x-python",
   "name": "python",
   "nbconvert_exporter": "python",
   "pygments_lexer": "ipython3",
   "version": "3.8.5"
  }
 },
 "nbformat": 4,
 "nbformat_minor": 4
}
